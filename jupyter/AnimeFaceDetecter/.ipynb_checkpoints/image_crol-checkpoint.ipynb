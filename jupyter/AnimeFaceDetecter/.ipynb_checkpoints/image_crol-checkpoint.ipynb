{
 "cells": [
  {
   "cell_type": "code",
   "execution_count": 67,
   "metadata": {},
   "outputs": [],
   "source": [
    "from selenium import webdriver\n",
    "from time import sleep"
   ]
  },
  {
   "cell_type": "code",
   "execution_count": 6,
   "metadata": {},
   "outputs": [],
   "source": [
    "web = webdriver.Chrome('./chromedriver.exe')"
   ]
  },
  {
   "cell_type": "code",
   "execution_count": 72,
   "metadata": {},
   "outputs": [],
   "source": [
    "web.get('https://www.pixiv.net/ranking.php?mode=daily&content=illust&date=20190201')"
   ]
  },
  {
   "cell_type": "code",
   "execution_count": 63,
   "metadata": {},
   "outputs": [
    {
     "data": {
      "text/plain": [
       "'73424539'"
      ]
     },
     "execution_count": 63,
     "metadata": {},
     "output_type": "execute_result"
    }
   ],
   "source": [
    "get_link(web, 9)"
   ]
  },
  {
   "cell_type": "code",
   "execution_count": 74,
   "metadata": {},
   "outputs": [
    {
     "name": "stdout",
     "output_type": "stream",
     "text": [
      "72931086\n",
      "72922385\n",
      "72932940\n",
      "72922398\n",
      "72938138\n",
      "72922375\n",
      "72931327\n",
      "72928666\n",
      "72922386\n",
      "72933538\n",
      "72926138\n",
      "72946322\n",
      "72942359\n",
      "72922505\n",
      "72937856\n",
      "72922791\n",
      "72947808\n",
      "72922930\n",
      "72949855\n",
      "72927542\n",
      "72922532\n",
      "72922424\n",
      "72949847\n",
      "72923715\n",
      "72927919\n",
      "72933156\n",
      "72922393\n",
      "72937643\n",
      "72922506\n",
      "72927851\n"
     ]
    }
   ],
   "source": []
  },
  {
   "cell_type": "code",
   "execution_count": 113,
   "metadata": {},
   "outputs": [],
   "source": [
    "url_list = dict()\n",
    "def get_link(driver, count):\n",
    "    try:\n",
    "        url = driver.find_element_by_xpath(\"\"\"//*[@id=\"{}\"]/div[2]/a\"\"\".format(count))\\\n",
    "            .get_attribute('href')\\\n",
    "            .split('t_id=')[1]\\\n",
    "            .split('&')[0]\n",
    "    except Exception:\n",
    "        return ''\n",
    "    if url in url_list.keys():\n",
    "        return ''\n",
    "    url_list[url] = True\n",
    "    return url"
   ]
  },
  {
   "cell_type": "code",
   "execution_count": 114,
   "metadata": {},
   "outputs": [],
   "source": [
    "def scrol(driver):\n",
    "    driver.execute_script(\"window.scrollTo(0, document.body.scrollHeight); return 10\")"
   ]
  },
  {
   "cell_type": "code",
   "execution_count": 115,
   "metadata": {},
   "outputs": [],
   "source": [
    "def one_day(driver, download_image_count):\n",
    "    scrol(driver)\n",
    "    sleep(5)\n",
    "    page_ids = []\n",
    "    for i in range(download_image_count):\n",
    "        link = get_link(driver, i+1)\n",
    "        if not link:\n",
    "            continue\n",
    "        page_ids.append(link)\n",
    "    return page_ids"
   ]
  },
  {
   "cell_type": "code",
   "execution_count": 116,
   "metadata": {},
   "outputs": [],
   "source": [
    "def next_date(now):\n",
    "    day = get_day(now)\n",
    "    mon = get_mon(now)\n",
    "    year = get_year(now)\n",
    "    if day > 28:\n",
    "        day = 1\n",
    "        if mon > 12:\n",
    "            mon = 1\n",
    "            year += 1\n",
    "        else:\n",
    "            mon += 1\n",
    "    else:\n",
    "        day += 1\n",
    "    return \"{year}%02d%02d\".format(year=year) % (mon, day)\n",
    "\n",
    "def get_day(now):\n",
    "    return int(now[-2:])\n",
    "\n",
    "def get_mon(now):\n",
    "    return int(now[-4:6])\n",
    "\n",
    "def get_year(now):\n",
    "    return int(now[:4])"
   ]
  },
  {
   "cell_type": "code",
   "execution_count": 117,
   "metadata": {},
   "outputs": [],
   "source": [
    "def driver_next_day(driver, now):\n",
    "    driver.get('https://www.pixiv.net/ranking.php?mode=daily&content=illust&date='+next_date(now))\n",
    "    return next_date(now)"
   ]
  },
  {
   "cell_type": "code",
   "execution_count": null,
   "metadata": {},
   "outputs": [
    {
     "name": "stdout",
     "output_type": "stream",
     "text": [
      "['66923333', '66922872', '66908313', '66908920', '66922897', '66907800', '66913734', '66921450', '66923002', '66913992']\n",
      "['66932076', '66923656', '66933558', '66928801', '66928481', '66922873']\n",
      "['66952181', '66953451', '66952137', '66937872', '66938052', '66942873', '66956824', '66937705', '66944773', '66951690']\n",
      "['66952939', '66965508', '66956810', '66953920', '66951677', '66951767']\n",
      "['66979373', '66981073', '66980902', '66974115', '66987311', '66966723', '66965420', '66974323']\n",
      "['67007178', '66998372', '66991663', '66979255', '66993255', '66979494']\n",
      "['67013745', '67015050', '67014926', '67010409', '67014960', '67014894', '67010699', '67016325']\n",
      "[]\n"
     ]
    }
   ],
   "source": [
    "now = \"20180122\"\n",
    "for i in range(60):\n",
    "    now = driver_next_day(web, now)\n",
    "    print(one_day(web, 10))"
   ]
  },
  {
   "cell_type": "code",
   "execution_count": null,
   "metadata": {},
   "outputs": [],
   "source": []
  }
 ],
 "metadata": {
  "kernelspec": {
   "display_name": "Python 3",
   "language": "python",
   "name": "python3"
  },
  "language_info": {
   "codemirror_mode": {
    "name": "ipython",
    "version": 3
   },
   "file_extension": ".py",
   "mimetype": "text/x-python",
   "name": "python",
   "nbconvert_exporter": "python",
   "pygments_lexer": "ipython3",
   "version": "3.6.5"
  }
 },
 "nbformat": 4,
 "nbformat_minor": 2
}
