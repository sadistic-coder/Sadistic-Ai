{
 "cells": [
  {
   "cell_type": "code",
   "execution_count": 27,
   "metadata": {},
   "outputs": [],
   "source": [
    "import tensorflow as tf\n",
    "import numpy as np\n",
    "import cv2\n",
    "import os"
   ]
  },
  {
   "cell_type": "code",
   "execution_count": 24,
   "metadata": {},
   "outputs": [],
   "source": [
    "from keras.preprocessing.image import load_img, img_to_array\n",
    "files = os.listdir(r'.\\AnimeFaceDetecter\\Datas\\result\\face')\n",
    "images = []\n",
    "for i in files:\n",
    "    image = load_img(r'.\\AnimeFaceDetecter\\Datas\\result\\face\\{}'.format(i),target_size=(64,64))\n",
    "    image = img_to_array(image)\n",
    "    image.shape\n",
    "    image = image / 256\n",
    "    images.append(image)"
   ]
  },
  {
   "cell_type": "code",
   "execution_count": 25,
   "metadata": {},
   "outputs": [
    {
     "data": {
      "text/plain": [
       "(654, 64, 64, 3)"
      ]
     },
     "execution_count": 25,
     "metadata": {},
     "output_type": "execute_result"
    }
   ],
   "source": [
    "np.array(images).shape"
   ]
  },
  {
   "cell_type": "code",
   "execution_count": 26,
   "metadata": {},
   "outputs": [],
   "source": [
    "def get_noise(batch_size, n_noise):\n",
    "    return np.random.uniform(-1., 1., size = [batch_size, n_noise])"
   ]
  },
  {
   "cell_type": "code",
   "execution_count": 29,
   "metadata": {},
   "outputs": [],
   "source": [
    "def windowUp(arr):\n",
    "    frame = cv2.cvtColor(np.array(arr), cv2.COLOR_BGR2RGB)\n",
    "    cv2.imshow(\"test\", frame)\n",
    "    cv2.waitKey(0)\n",
    "    cv2.destroyAllWindows()"
   ]
  },
  {
   "cell_type": "code",
   "execution_count": 30,
   "metadata": {},
   "outputs": [],
   "source": [
    "X = tf.placeholder(tf.float32, [None, 64,64,3])\n",
    "Y = tf.placeholder(tf.float32, [None, 1])\n",
    "Z = tf.placeholder(tf.float32, [None, 100])"
   ]
  },
  {
   "cell_type": "code",
   "execution_count": 31,
   "metadata": {},
   "outputs": [],
   "source": [
    "def generate(Z):\n",
    "    w1 = tf.Variable(tf.random_normal([100, 16384]))\n",
    "    h1 = tf.matmul(Z,w1)\n",
    "    re = tf.reshape(h1,[-1,4,4,1024])\n",
    "    re = tf.layers.batch_normalization(re)\n",
    "\n",
    "    conv_h1 = tf.layers.conv2d_transpose(re ,512, 5, 2, padding='same')\n",
    "    \n",
    "    conv_h1 = tf.nn.relu(conv_h1)\n",
    "\n",
    "    conv_h2 = tf.layers.conv2d_transpose(conv_h1 ,256, 4, 2, padding='same')\n",
    "    conv_h2 = tf.nn.relu(conv_h2)\n",
    "\n",
    "    conv_h3 = tf.layers.conv2d_transpose(conv_h2 ,128, 4, 2, padding='same')\n",
    "    conv_h3 = tf.nn.relu(conv_h3)\n",
    "\n",
    "    conv_h5 = tf.layers.conv2d_transpose(conv_h3 ,3, 4, 2, padding='same')\n",
    "    return conv_h5"
   ]
  },
  {
   "cell_type": "code",
   "execution_count": 32,
   "metadata": {},
   "outputs": [],
   "source": [
    "def discriminaster(inputs):\n",
    "    W1 = tf.Variable(tf.random_normal([3,3,3,32],stddev=0.02))\n",
    "    H1 = tf.nn.conv2d(inputs,W1, strides=[1,2,2,1], padding=\"SAME\")\n",
    "    H1 = tf.layers.batch_normalization(H1)\n",
    "    H1 = tf.nn.relu(H1)\n",
    "\n",
    "    W2 = tf.Variable(tf.random_normal([3,3,32,64],stddev=0.02))\n",
    "    H2 = tf.nn.conv2d(H1,W2, strides=[1,2,2,1], padding=\"SAME\")\n",
    "    H2 = tf.nn.relu(H2)\n",
    "\n",
    "    W3 = tf.Variable(tf.random_normal([3,3,64,256],stddev=0.02))\n",
    "    H3 = tf.nn.conv2d(H2,W3, strides=[1,2,2,1], padding=\"SAME\")\n",
    "    H3 = tf.nn.relu(H3)\n",
    "    \n",
    "    W4 = tf.Variable(tf.random_normal([3,3,256,1024],stddev=0.02))\n",
    "    H4 = tf.nn.conv2d(H3,W4, strides=[1,2,2,1], padding=\"SAME\")\n",
    "    H4 = tf.nn.relu(H4)\n",
    "    \n",
    "    out = tf.reshape(H4,[-1,16384])\n",
    "    out = tf.layers.dense(out,256)\n",
    "    out = tf.layers.dense(out,1)\n",
    "    return out"
   ]
  },
  {
   "cell_type": "code",
   "execution_count": 33,
   "metadata": {},
   "outputs": [],
   "source": [
    "\n",
    "G = generate(Z)\n",
    "D_real = discriminaster(X)\n",
    "D_gene = discriminaster(G)"
   ]
  },
  {
   "cell_type": "code",
   "execution_count": 35,
   "metadata": {},
   "outputs": [],
   "source": [
    "loss_D_real = tf.reduce_mean(\n",
    "    tf.nn.sigmoid_cross_entropy_with_logits(\n",
    "        logits=D_real,\n",
    "        labels=tf.ones_like(D_real)\n",
    "    )\n",
    ")\n",
    "\n",
    "loss_D_gene = tf.reduce_mean(\n",
    "    tf.nn.sigmoid_cross_entropy_with_logits(\n",
    "        logits=D_gene,\n",
    "        labels=tf.zeros_like(D_gene)\n",
    "    )\n",
    ")"
   ]
  },
  {
   "cell_type": "code",
   "execution_count": 36,
   "metadata": {},
   "outputs": [],
   "source": [
    "loss_D = loss_D_gene + loss_D_real\n",
    "loss_G = tf.reduce_mean(tf.nn.sigmoid_cross_entropy_with_logits(logits=D_gene, labels=tf.ones_like(D_gene)))"
   ]
  },
  {
   "cell_type": "code",
   "execution_count": 37,
   "metadata": {},
   "outputs": [],
   "source": [
    "train_D = tf.train.AdamOptimizer(0.001).minimize(loss_D)\n",
    "train_G = tf.train.AdamOptimizer(0.001).minimize(loss_G)"
   ]
  },
  {
   "cell_type": "code",
   "execution_count": 38,
   "metadata": {},
   "outputs": [],
   "source": [
    "sess = tf.Session()\n",
    "sess.run(tf.global_variables_initializer())"
   ]
  },
  {
   "cell_type": "code",
   "execution_count": 48,
   "metadata": {},
   "outputs": [
    {
     "name": "stdout",
     "output_type": "stream",
     "text": [
      "0   D : 0.17413387\t G : 11.1477995\n",
      "1   D : 0.18718398\t G : 11.238913\n",
      "2   D : 0.21939513\t G : 11.3199415\n",
      "3   D : 0.0912514\t G : 14.570533\n",
      "4   D : 0.22721289\t G : 11.152951\n",
      "5   D : 0.50218296\t G : 5.894978\n",
      "6   D : 0.13318141\t G : 13.414516\n",
      "7   D : 0.009151893\t G : 18.493025\n",
      "8   D : 0.2053367\t G : 11.729457\n",
      "9   D : 0.091280535\t G : 12.535742\n"
     ]
    }
   ],
   "source": [
    "for i in range(10):\n",
    "    noise = get_noise(1,100)\n",
    "    _, varsD=sess.run([train_D, loss_D], \n",
    "                  feed_dict={\n",
    "                      X:np.array(images),\n",
    "                      Z: noise})\n",
    "    _, varsG=sess.run([train_G, loss_G], \n",
    "                  feed_dict={\n",
    "                      X:np.array(images),\n",
    "                      Z: noise})\n",
    "    print(str(i)+\"   D : \"+str(varsD)+\"\\t G : \"+str(varsG))"
   ]
  },
  {
   "cell_type": "code",
   "execution_count": 49,
   "metadata": {},
   "outputs": [],
   "source": [
    "noise = get_noise(30,100)\n",
    "img = sess.run(G, feed_dict={Z:noise})\n",
    "for i in range(5):\n",
    "    windowUp(img[i])"
   ]
  },
  {
   "cell_type": "code",
   "execution_count": 44,
   "metadata": {},
   "outputs": [],
   "source": [
    "windowUp(images[3])"
   ]
  },
  {
   "cell_type": "code",
   "execution_count": null,
   "metadata": {},
   "outputs": [],
   "source": []
  }
 ],
 "metadata": {
  "kernelspec": {
   "display_name": "Python 3",
   "language": "python",
   "name": "python3"
  },
  "language_info": {
   "codemirror_mode": {
    "name": "ipython",
    "version": 3
   },
   "file_extension": ".py",
   "mimetype": "text/x-python",
   "name": "python",
   "nbconvert_exporter": "python",
   "pygments_lexer": "ipython3",
   "version": "3.6.5"
  }
 },
 "nbformat": 4,
 "nbformat_minor": 2
}
